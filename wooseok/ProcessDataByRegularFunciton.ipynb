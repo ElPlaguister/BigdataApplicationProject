{
 "cells": [
  {
   "cell_type": "markdown",
   "id": "4ce1850d",
   "metadata": {},
   "source": [
    "# **시 **구 ** 길 데이터 생성"
   ]
  },
  {
   "cell_type": "code",
   "execution_count": 1,
   "id": "7c182eae",
   "metadata": {},
   "outputs": [],
   "source": [
    "import re\n",
    "import pandas as pd"
   ]
  },
  {
   "cell_type": "code",
   "execution_count": 2,
   "id": "e92750c3",
   "metadata": {},
   "outputs": [],
   "source": [
    "df = pd.read_csv(\"latitude_sample.csv\", encoding=\"euc-kr\")"
   ]
  },
  {
   "cell_type": "code",
   "execution_count": 3,
   "id": "6fb7e8d6",
   "metadata": {},
   "outputs": [
    {
     "data": {
      "text/html": [
       "<div>\n",
       "<style scoped>\n",
       "    .dataframe tbody tr th:only-of-type {\n",
       "        vertical-align: middle;\n",
       "    }\n",
       "\n",
       "    .dataframe tbody tr th {\n",
       "        vertical-align: top;\n",
       "    }\n",
       "\n",
       "    .dataframe thead th {\n",
       "        text-align: right;\n",
       "    }\n",
       "</style>\n",
       "<table border=\"1\" class=\"dataframe\">\n",
       "  <thead>\n",
       "    <tr style=\"text-align: right;\">\n",
       "      <th></th>\n",
       "      <th>도로명주소</th>\n",
       "      <th>지번주소</th>\n",
       "      <th>위도</th>\n",
       "      <th>경도</th>\n",
       "    </tr>\n",
       "  </thead>\n",
       "  <tbody>\n",
       "    <tr>\n",
       "      <th>0</th>\n",
       "      <td>서울특별시 종로구 돈화문로9길 26</td>\n",
       "      <td>NaN</td>\n",
       "      <td>NaN</td>\n",
       "      <td>NaN</td>\n",
       "    </tr>\n",
       "    <tr>\n",
       "      <th>1</th>\n",
       "      <td>서울특별시 종로구 지봉로 29</td>\n",
       "      <td>NaN</td>\n",
       "      <td>NaN</td>\n",
       "      <td>NaN</td>\n",
       "    </tr>\n",
       "    <tr>\n",
       "      <th>2</th>\n",
       "      <td>None</td>\n",
       "      <td>NaN</td>\n",
       "      <td>NaN</td>\n",
       "      <td>NaN</td>\n",
       "    </tr>\n",
       "    <tr>\n",
       "      <th>3</th>\n",
       "      <td>서울특별시 종로구 종로 78</td>\n",
       "      <td>NaN</td>\n",
       "      <td>NaN</td>\n",
       "      <td>NaN</td>\n",
       "    </tr>\n",
       "    <tr>\n",
       "      <th>4</th>\n",
       "      <td>None</td>\n",
       "      <td>NaN</td>\n",
       "      <td>NaN</td>\n",
       "      <td>,</td>\n",
       "    </tr>\n",
       "    <tr>\n",
       "      <th>...</th>\n",
       "      <td>...</td>\n",
       "      <td>...</td>\n",
       "      <td>...</td>\n",
       "      <td>...</td>\n",
       "    </tr>\n",
       "    <tr>\n",
       "      <th>852</th>\n",
       "      <td>서울특별시 양천구 중앙로 181 복합메디컬타운 3~8층</td>\n",
       "      <td>NaN</td>\n",
       "      <td>NaN</td>\n",
       "      <td>NaN</td>\n",
       "    </tr>\n",
       "    <tr>\n",
       "      <th>853</th>\n",
       "      <td>서울특별시 양천구 신목로 120</td>\n",
       "      <td>NaN</td>\n",
       "      <td>NaN</td>\n",
       "      <td>NaN</td>\n",
       "    </tr>\n",
       "    <tr>\n",
       "      <th>854</th>\n",
       "      <td>서울특별시 영등포구 도림로 144 88월드타워 6 7층</td>\n",
       "      <td>NaN</td>\n",
       "      <td>NaN</td>\n",
       "      <td>NaN</td>\n",
       "    </tr>\n",
       "    <tr>\n",
       "      <th>855</th>\n",
       "      <td>서울특별시 서대문구 수색로 18 2~5층</td>\n",
       "      <td>NaN</td>\n",
       "      <td>NaN</td>\n",
       "      <td>NaN</td>\n",
       "    </tr>\n",
       "    <tr>\n",
       "      <th>856</th>\n",
       "      <td>서울특별시 강동구 양재대로 1525 명품빌딩</td>\n",
       "      <td>NaN</td>\n",
       "      <td>NaN</td>\n",
       "      <td>NaN</td>\n",
       "    </tr>\n",
       "  </tbody>\n",
       "</table>\n",
       "<p>857 rows × 4 columns</p>\n",
       "</div>"
      ],
      "text/plain": [
       "                              도로명주소  지번주소  위도   경도\n",
       "0               서울특별시 종로구 돈화문로9길 26   NaN NaN  NaN\n",
       "1                  서울특별시 종로구 지봉로 29   NaN NaN  NaN\n",
       "2                              None   NaN NaN  NaN\n",
       "3                   서울특별시 종로구 종로 78   NaN NaN  NaN\n",
       "4                              None   NaN NaN   , \n",
       "..                              ...   ...  ..  ...\n",
       "852  서울특별시 양천구 중앙로 181 복합메디컬타운 3~8층   NaN NaN  NaN\n",
       "853               서울특별시 양천구 신목로 120   NaN NaN  NaN\n",
       "854  서울특별시 영등포구 도림로 144 88월드타워 6 7층   NaN NaN  NaN\n",
       "855          서울특별시 서대문구 수색로 18 2~5층   NaN NaN  NaN\n",
       "856        서울특별시 강동구 양재대로 1525 명품빌딩   NaN NaN  NaN\n",
       "\n",
       "[857 rows x 4 columns]"
      ]
     },
     "execution_count": 3,
     "metadata": {},
     "output_type": "execute_result"
    }
   ],
   "source": [
    "df"
   ]
  },
  {
   "cell_type": "code",
   "execution_count": 47,
   "id": "057fa52f",
   "metadata": {},
   "outputs": [
    {
     "data": {
      "text/plain": [
       "0                         []\n",
       "1         [서울특별시 종로구 지봉로 29]\n",
       "2                         []\n",
       "3          [서울특별시 종로구 종로 78]\n",
       "4                         []\n",
       "               ...          \n",
       "852      [서울특별시 양천구 중앙로 181]\n",
       "853      [서울특별시 양천구 신목로 120]\n",
       "854     [서울특별시 영등포구 도림로 144]\n",
       "855      [서울특별시 서대문구 수색로 18]\n",
       "856    [서울특별시 강동구 양재대로 1525]\n",
       "Name: 도로명1, Length: 857, dtype: object"
      ]
     },
     "execution_count": 47,
     "metadata": {},
     "output_type": "execute_result"
    }
   ],
   "source": [
    "df['도로명1'] = df['도로명주소'].apply(lambda x: re.findall(r'\\w+시 \\w+구 \\w+로 \\d+', x))\n",
    "df['도로명1']"
   ]
  },
  {
   "cell_type": "code",
   "execution_count": 38,
   "id": "ef2e8104",
   "metadata": {},
   "outputs": [],
   "source": [
    "df['도로명2'] = df['도로명주소'].apply(lambda x: re.findall(r'\\w+시 \\w+구 \\w+로??길 \\d+', x))"
   ]
  },
  {
   "cell_type": "code",
   "execution_count": 58,
   "id": "1d3c0e36",
   "metadata": {},
   "outputs": [],
   "source": [
    "df['_도로명']=df['도로명1']+ df['도로명2']\n",
    "\n",
    "df.to_csv(\"refined_.csv\", encoding=\"euc-kr\")"
   ]
  },
  {
   "cell_type": "markdown",
   "id": "0dbd2d04",
   "metadata": {},
   "source": [
    "# **구 데이터만 추출하기"
   ]
  },
  {
   "cell_type": "code",
   "execution_count": 35,
   "id": "139c9eef",
   "metadata": {},
   "outputs": [],
   "source": [
    "import re\n",
    "import pandas as pd"
   ]
  },
  {
   "cell_type": "code",
   "execution_count": 36,
   "id": "873437c5",
   "metadata": {},
   "outputs": [
    {
     "data": {
      "text/html": [
       "<div>\n",
       "<style scoped>\n",
       "    .dataframe tbody tr th:only-of-type {\n",
       "        vertical-align: middle;\n",
       "    }\n",
       "\n",
       "    .dataframe tbody tr th {\n",
       "        vertical-align: top;\n",
       "    }\n",
       "\n",
       "    .dataframe thead th {\n",
       "        text-align: right;\n",
       "    }\n",
       "</style>\n",
       "<table border=\"1\" class=\"dataframe\">\n",
       "  <thead>\n",
       "    <tr style=\"text-align: right;\">\n",
       "      <th></th>\n",
       "      <th>주소</th>\n",
       "      <th>건물주용도</th>\n",
       "      <th>건물명</th>\n",
       "      <th>건물면적</th>\n",
       "      <th>물건금액</th>\n",
       "      <th>latitude</th>\n",
       "      <th>longitude</th>\n",
       "    </tr>\n",
       "  </thead>\n",
       "  <tbody>\n",
       "    <tr>\n",
       "      <th>0</th>\n",
       "      <td>서울특별시 종로구 평창동 345</td>\n",
       "      <td>연립주택</td>\n",
       "      <td>(345-62)</td>\n",
       "      <td>90.30</td>\n",
       "      <td>560000000</td>\n",
       "      <td>37.606645</td>\n",
       "      <td>126.962909</td>\n",
       "    </tr>\n",
       "    <tr>\n",
       "      <th>1</th>\n",
       "      <td>서울특별시 종로구 창신동 703</td>\n",
       "      <td>아파트</td>\n",
       "      <td>창신쌍용2</td>\n",
       "      <td>54.70</td>\n",
       "      <td>700000000</td>\n",
       "      <td>37.580421</td>\n",
       "      <td>127.011724</td>\n",
       "    </tr>\n",
       "    <tr>\n",
       "      <th>2</th>\n",
       "      <td>서울특별시 종로구 숭인동 1392</td>\n",
       "      <td>오피스텔</td>\n",
       "      <td>종로 아인스빌</td>\n",
       "      <td>17.88</td>\n",
       "      <td>112000000</td>\n",
       "      <td>37.573667</td>\n",
       "      <td>127.022640</td>\n",
       "    </tr>\n",
       "    <tr>\n",
       "      <th>3</th>\n",
       "      <td>서울특별시 마포구 신수동 462</td>\n",
       "      <td>아파트</td>\n",
       "      <td>신촌숲아이파크</td>\n",
       "      <td>84.93</td>\n",
       "      <td>1950000000</td>\n",
       "      <td>37.546842</td>\n",
       "      <td>126.934558</td>\n",
       "    </tr>\n",
       "    <tr>\n",
       "      <th>4</th>\n",
       "      <td>서울특별시 마포구 망원동 397</td>\n",
       "      <td>연립주택</td>\n",
       "      <td>래디앙1차</td>\n",
       "      <td>60.06</td>\n",
       "      <td>380000000</td>\n",
       "      <td>37.553717</td>\n",
       "      <td>126.904298</td>\n",
       "    </tr>\n",
       "  </tbody>\n",
       "</table>\n",
       "</div>"
      ],
      "text/plain": [
       "                   주소 건물주용도       건물명   건물면적        물건금액   latitude  \\\n",
       "0   서울특별시 종로구 평창동 345  연립주택  (345-62)  90.30   560000000  37.606645   \n",
       "1   서울특별시 종로구 창신동 703   아파트     창신쌍용2  54.70   700000000  37.580421   \n",
       "2  서울특별시 종로구 숭인동 1392  오피스텔   종로 아인스빌  17.88   112000000  37.573667   \n",
       "3   서울특별시 마포구 신수동 462   아파트   신촌숲아이파크  84.93  1950000000  37.546842   \n",
       "4   서울특별시 마포구 망원동 397  연립주택     래디앙1차  60.06   380000000  37.553717   \n",
       "\n",
       "    longitude  \n",
       "0  126.962909  \n",
       "1  127.011724  \n",
       "2  127.022640  \n",
       "3  126.934558  \n",
       "4  126.904298  "
      ]
     },
     "execution_count": 36,
     "metadata": {},
     "output_type": "execute_result"
    }
   ],
   "source": [
    "df = pd.read_csv(\"./datas/seoul_pri_2021_ll.csv\", encoding=\"utf-8\")\n",
    "df.head()"
   ]
  },
  {
   "cell_type": "code",
   "execution_count": 37,
   "id": "f8eb506b",
   "metadata": {},
   "outputs": [],
   "source": [
    "df['동네명'] = df['주소'].apply(lambda x: re.findall(r'\\w+구', x))\n"
   ]
  },
  {
   "cell_type": "code",
   "execution_count": 38,
   "id": "bbbd8e08",
   "metadata": {},
   "outputs": [],
   "source": [
    "df['동네명'].to_csv(\"town_name.csv\", encoding=\"utf-8\")"
   ]
  }
 ],
 "metadata": {
  "kernelspec": {
   "display_name": "Python 3",
   "language": "python",
   "name": "python3"
  },
  "language_info": {
   "codemirror_mode": {
    "name": "ipython",
    "version": 3
   },
   "file_extension": ".py",
   "mimetype": "text/x-python",
   "name": "python",
   "nbconvert_exporter": "python",
   "pygments_lexer": "ipython3",
   "version": "3.8.8"
  }
 },
 "nbformat": 4,
 "nbformat_minor": 5
}
