{
 "cells": [
  {
   "cell_type": "markdown",
   "id": "1e070ef8",
   "metadata": {},
   "source": [
    "# 1. Load data and Rectify"
   ]
  },
  {
   "cell_type": "code",
   "execution_count": 9,
   "id": "6e71ba9e",
   "metadata": {},
   "outputs": [],
   "source": [
    "import pandas as pd\n",
    "from tqdm import tqdm\n",
    "\n",
    "# Load friendly facilities\n",
    "df = pd.read_csv(\"datas/station_only.csv\", encoding=\"utf-8\")\n",
    "\n",
    "# Load house data\n",
    "df2 = pd.read_csv(\"datas/seoul_pri_2020_ll.csv\", encoding=\"utf-8\")\n"
   ]
  },
  {
   "cell_type": "code",
   "execution_count": 10,
   "id": "ec0c4511",
   "metadata": {},
   "outputs": [],
   "source": [
    "# data rectify: delete null data\n",
    "\n",
    "filt = df['longitude'].isnull()\n",
    "df.drop(index=df[filt].index, inplace=True)\n",
    "\n",
    "filt2 = df['latitude'].isnull()\n",
    "df.drop(index=df[filt2].index, inplace=True)\n"
   ]
  },
  {
   "cell_type": "code",
   "execution_count": 11,
   "id": "f63d6eea",
   "metadata": {},
   "outputs": [],
   "source": [
    "# data rectify: convert longitde from str to float\n",
    "df['longitude'] = df['longitude'].apply(lambda x: float(x))\n"
   ]
  },
  {
   "cell_type": "code",
   "execution_count": 12,
   "id": "23b07c74",
   "metadata": {},
   "outputs": [
    {
     "name": "stdout",
     "output_type": "stream",
     "text": [
      "<class 'pandas.core.frame.DataFrame'>\n",
      "Int64Index: 738 entries, 0 to 737\n",
      "Data columns (total 5 columns):\n",
      " #   Column        Non-Null Count  Dtype  \n",
      "---  ------        --------------  -----  \n",
      " 0   명칭            738 non-null    object \n",
      " 1   latitude      738 non-null    float64\n",
      " 2   longitude     738 non-null    float64\n",
      " 3   Station_line  738 non-null    object \n",
      " 4   구분            738 non-null    object \n",
      "dtypes: float64(2), object(3)\n",
      "memory usage: 50.8+ KB\n"
     ]
    }
   ],
   "source": [
    "df.info()"
   ]
  },
  {
   "cell_type": "code",
   "execution_count": 13,
   "id": "05dabf70",
   "metadata": {},
   "outputs": [
    {
     "name": "stdout",
     "output_type": "stream",
     "text": [
      "<class 'pandas.core.frame.DataFrame'>\n",
      "RangeIndex: 163821 entries, 0 to 163820\n",
      "Data columns (total 7 columns):\n",
      " #   Column     Non-Null Count   Dtype  \n",
      "---  ------     --------------   -----  \n",
      " 0   주소         163821 non-null  object \n",
      " 1   건물주용도      163821 non-null  object \n",
      " 2   건물명        163821 non-null  object \n",
      " 3   건물면적       163821 non-null  float64\n",
      " 4   물건금액       163821 non-null  int64  \n",
      " 5   latitude   163821 non-null  float64\n",
      " 6   longitude  163821 non-null  float64\n",
      "dtypes: float64(3), int64(1), object(3)\n",
      "memory usage: 8.7+ MB\n"
     ]
    }
   ],
   "source": [
    "df2.info()"
   ]
  },
  {
   "cell_type": "markdown",
   "id": "17bb2d4f",
   "metadata": {},
   "source": [
    "## 1.1 Prepare empty df"
   ]
  },
  {
   "cell_type": "code",
   "execution_count": null,
   "id": "982420f1",
   "metadata": {},
   "outputs": [],
   "source": [
    "df_complete = pd.DataFrame(columns=['0.5km지하철', '1.0km지하철', '1.5km지하철'])"
   ]
  },
  {
   "cell_type": "markdown",
   "id": "4980c5b0",
   "metadata": {},
   "source": [
    "# 2. Define functions"
   ]
  },
  {
   "cell_type": "code",
   "execution_count": null,
   "id": "190d000c",
   "metadata": {},
   "outputs": [],
   "source": [
    "from scipy.spatial import distance"
   ]
  },
  {
   "cell_type": "code",
   "execution_count": null,
   "id": "ac64e28f",
   "metadata": {},
   "outputs": [],
   "source": [
    "# trial calculating\n",
    "distance.euclidean((df2['longitude'][0], df2['latitude'][0]),(df['longitude'][1], df['latitude'][1]))"
   ]
  },
  {
   "cell_type": "code",
   "execution_count": null,
   "id": "70ece52c",
   "metadata": {},
   "outputs": [],
   "source": [
    "# distance's output is not km.\n",
    "def make_km(x):\n",
    "    # 2.3f\n",
    "    return x // 0.00001 /1000"
   ]
  },
  {
   "cell_type": "markdown",
   "id": "f4bd13f8",
   "metadata": {},
   "source": [
    "## 2.2 범위 내 개수 구하기"
   ]
  },
  {
   "cell_type": "code",
   "execution_count": null,
   "id": "993900d2",
   "metadata": {},
   "outputs": [],
   "source": [
    "def list_element_is_in(base_list, element):\n",
    "    for i in base_list:\n",
    "        if len(base_list)==0:\n",
    "            return False\n",
    "        if [i] == element:           \n",
    "            return True\n",
    "    return False\n",
    "\n",
    "# count num of friendly facilities in range\n",
    "# Input: distance list, range list [km]\n",
    "def st_count_in_distance(dist_list, range_km, station_lines):\n",
    "    count = 0\n",
    "    appended_line = []\n",
    "    \n",
    "    for i, dist in enumerate(dist_list):\n",
    "        if 0 < dist < range_km and not list_element_is_in(appended_line, [station_lines[i]]):\n",
    "            count +=1\n",
    "            appended_line.append(station_lines[i])\n",
    "    return count"
   ]
  },
  {
   "cell_type": "code",
   "execution_count": null,
   "id": "4f551345",
   "metadata": {
    "scrolled": true
   },
   "outputs": [],
   "source": [
    "# Input: house 는 데이터 하나, 우호시설은 데이터 column\n",
    "def st_num_by_distance(house_lon, house_lat, friendly_lons, friendly_lats, range_list, station_lines):\n",
    "    dist = []\n",
    "    for i in range(len(friendly_lons)):\n",
    "        dist.append(\n",
    "            make_km(distance.euclidean((house_lon, house_lat), (friendly_lons[i], friendly_lats[i]))))\n",
    "    \n",
    "    ret = []\n",
    "    for ran in range_list:\n",
    "        ret.append(st_count_in_distance(dist, ran, station_lines))\n",
    "\n",
    "        \n",
    "    return ret # list"
   ]
  },
  {
   "cell_type": "code",
   "execution_count": 12,
   "id": "45927d6e",
   "metadata": {},
   "outputs": [
    {
     "name": "stderr",
     "output_type": "stream",
     "text": [
      "Progress..: 100%|██████████| 163821/163821 [30:14<00:00, 90.28it/s] \n"
     ]
    }
   ],
   "source": [
    "selection = ['지하철']\n",
    "selection_range = [[0.5, 1, 1.5]]\n",
    "filt = df['구분'] == selection[0]\n",
    "\n",
    "for i in tqdm(range(len(df2['longitude'])), desc='Progress..', mininterval=0.1):\n",
    "    ret = st_num_by_distance(df2['longitude'][i], df2['latitude'][i], df[filt]['longitude'].values, df[filt]['latitude'].values, selection_range[0], df[filt]['Station_line'].values)\n",
    "\n",
    "    # add them in dataframe\n",
    "    df_complete = df_complete.append(pd.Series(ret, index=df_complete.columns), ignore_index=True)\n",
    "\n",
    "    if (i%10000==0): \n",
    "        df_complete.to_csv(\"station_processing_by_line_2020.csv\", encoding=\"utf-8\")\n",
    "        \n",
    "\n",
    "df_complete.to_csv(\"station_processing_by_line_2020.csv\", encoding=\"utf-8\")"
   ]
  },
  {
   "cell_type": "code",
   "execution_count": 13,
   "id": "10ca67c2",
   "metadata": {},
   "outputs": [
    {
     "data": {
      "text/html": [
       "<div>\n",
       "<style scoped>\n",
       "    .dataframe tbody tr th:only-of-type {\n",
       "        vertical-align: middle;\n",
       "    }\n",
       "\n",
       "    .dataframe tbody tr th {\n",
       "        vertical-align: top;\n",
       "    }\n",
       "\n",
       "    .dataframe thead th {\n",
       "        text-align: right;\n",
       "    }\n",
       "</style>\n",
       "<table border=\"1\" class=\"dataframe\">\n",
       "  <thead>\n",
       "    <tr style=\"text-align: right;\">\n",
       "      <th></th>\n",
       "      <th>0.5km지하철</th>\n",
       "      <th>1.0km지하철</th>\n",
       "      <th>1.5km지하철</th>\n",
       "    </tr>\n",
       "  </thead>\n",
       "  <tbody>\n",
       "    <tr>\n",
       "      <th>0</th>\n",
       "      <td>0</td>\n",
       "      <td>1</td>\n",
       "      <td>2</td>\n",
       "    </tr>\n",
       "    <tr>\n",
       "      <th>1</th>\n",
       "      <td>1</td>\n",
       "      <td>1</td>\n",
       "      <td>2</td>\n",
       "    </tr>\n",
       "    <tr>\n",
       "      <th>2</th>\n",
       "      <td>1</td>\n",
       "      <td>2</td>\n",
       "      <td>3</td>\n",
       "    </tr>\n",
       "    <tr>\n",
       "      <th>3</th>\n",
       "      <td>0</td>\n",
       "      <td>4</td>\n",
       "      <td>5</td>\n",
       "    </tr>\n",
       "    <tr>\n",
       "      <th>4</th>\n",
       "      <td>0</td>\n",
       "      <td>1</td>\n",
       "      <td>4</td>\n",
       "    </tr>\n",
       "    <tr>\n",
       "      <th>...</th>\n",
       "      <td>...</td>\n",
       "      <td>...</td>\n",
       "      <td>...</td>\n",
       "    </tr>\n",
       "    <tr>\n",
       "      <th>163816</th>\n",
       "      <td>1</td>\n",
       "      <td>1</td>\n",
       "      <td>3</td>\n",
       "    </tr>\n",
       "    <tr>\n",
       "      <th>163817</th>\n",
       "      <td>0</td>\n",
       "      <td>3</td>\n",
       "      <td>4</td>\n",
       "    </tr>\n",
       "    <tr>\n",
       "      <th>163818</th>\n",
       "      <td>0</td>\n",
       "      <td>2</td>\n",
       "      <td>3</td>\n",
       "    </tr>\n",
       "    <tr>\n",
       "      <th>163819</th>\n",
       "      <td>2</td>\n",
       "      <td>2</td>\n",
       "      <td>5</td>\n",
       "    </tr>\n",
       "    <tr>\n",
       "      <th>163820</th>\n",
       "      <td>0</td>\n",
       "      <td>1</td>\n",
       "      <td>2</td>\n",
       "    </tr>\n",
       "  </tbody>\n",
       "</table>\n",
       "<p>163821 rows × 3 columns</p>\n",
       "</div>"
      ],
      "text/plain": [
       "       0.5km지하철 1.0km지하철 1.5km지하철\n",
       "0             0        1        2\n",
       "1             1        1        2\n",
       "2             1        2        3\n",
       "3             0        4        5\n",
       "4             0        1        4\n",
       "...         ...      ...      ...\n",
       "163816        1        1        3\n",
       "163817        0        3        4\n",
       "163818        0        2        3\n",
       "163819        2        2        5\n",
       "163820        0        1        2\n",
       "\n",
       "[163821 rows x 3 columns]"
      ]
     },
     "execution_count": 13,
     "metadata": {},
     "output_type": "execute_result"
    }
   ],
   "source": [
    "df_complete"
   ]
  },
  {
   "cell_type": "code",
   "execution_count": 3,
   "id": "42a53355",
   "metadata": {},
   "outputs": [],
   "source": [
    "list1 = [1,2,3,4,5]\n",
    "list2 = [6,7,8,9,10]\n"
   ]
  },
  {
   "cell_type": "code",
   "execution_count": 4,
   "id": "ca2fe0fb",
   "metadata": {},
   "outputs": [
    {
     "data": {
      "text/plain": [
       "[1, 2, 3, 4, 5]"
      ]
     },
     "execution_count": 4,
     "metadata": {},
     "output_type": "execute_result"
    }
   ],
   "source": [
    "list1"
   ]
  },
  {
   "cell_type": "code",
   "execution_count": 8,
   "id": "0d684197",
   "metadata": {},
   "outputs": [
    {
     "data": {
      "text/plain": [
       "array([ 1,  2,  3,  4,  5,  6,  7,  8,  9, 10])"
      ]
     },
     "execution_count": 8,
     "metadata": {},
     "output_type": "execute_result"
    }
   ],
   "source": [
    "import numpy as np\n",
    "np.concatenate([list1, list2])"
   ]
  },
  {
   "cell_type": "code",
   "execution_count": 14,
   "id": "8a01c7e8",
   "metadata": {},
   "outputs": [],
   "source": [
    "selection = ['지하철']\n",
    "selection_range = [[0.5, 1, 1.5]]\n"
   ]
  },
  {
   "cell_type": "code",
   "execution_count": 15,
   "id": "e727ff29",
   "metadata": {},
   "outputs": [
    {
     "data": {
      "text/plain": [
       "True"
      ]
     },
     "execution_count": 15,
     "metadata": {},
     "output_type": "execute_result"
    }
   ],
   "source": [
    "selection[0] == '지하철'"
   ]
  },
  {
   "cell_type": "code",
   "execution_count": null,
   "id": "157db19c",
   "metadata": {},
   "outputs": [],
   "source": []
  }
 ],
 "metadata": {
  "kernelspec": {
   "display_name": "Python 3",
   "language": "python",
   "name": "python3"
  },
  "language_info": {
   "codemirror_mode": {
    "name": "ipython",
    "version": 3
   },
   "file_extension": ".py",
   "mimetype": "text/x-python",
   "name": "python",
   "nbconvert_exporter": "python",
   "pygments_lexer": "ipython3",
   "version": "3.8.8"
  }
 },
 "nbformat": 4,
 "nbformat_minor": 5
}
