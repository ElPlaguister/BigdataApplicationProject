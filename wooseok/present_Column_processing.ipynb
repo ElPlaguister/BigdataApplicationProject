{
 "cells": [
  {
   "cell_type": "markdown",
   "id": "1e070ef8",
   "metadata": {},
   "source": [
    "# 1. Load data and Rectify"
   ]
  },
  {
   "cell_type": "code",
   "execution_count": 1,
   "id": "6e71ba9e",
   "metadata": {},
   "outputs": [],
   "source": [
    "import pandas as pd\n",
    "from tqdm import tqdm\n",
    "\n",
    "# Load friendly facilities\n",
    "df = pd.read_csv(\"datas/base_data_final.csv\", encoding=\"utf-8\")\n",
    "\n",
    "# Load house data\n",
    "df2 = pd.read_csv(\"datas/seoul_pri_2020_ll.csv\", encoding=\"utf-8\")\n"
   ]
  },
  {
   "cell_type": "code",
   "execution_count": 2,
   "id": "ec0c4511",
   "metadata": {},
   "outputs": [],
   "source": [
    "# data rectify: delete null data\n",
    "\n",
    "filt = df['longitude'].isnull()\n",
    "df.drop(index=df[filt].index, inplace=True)\n",
    "\n",
    "filt2 = df['latitude'].isnull()\n",
    "df.drop(index=df[filt2].index, inplace=True)\n"
   ]
  },
  {
   "cell_type": "code",
   "execution_count": 3,
   "id": "f63d6eea",
   "metadata": {},
   "outputs": [],
   "source": [
    "# data rectify: convert longitde from str to float\n",
    "df['longitude'] = df['longitude'].apply(lambda x: float(x))\n"
   ]
  },
  {
   "cell_type": "code",
   "execution_count": 4,
   "id": "23b07c74",
   "metadata": {},
   "outputs": [
    {
     "name": "stdout",
     "output_type": "stream",
     "text": [
      "<class 'pandas.core.frame.DataFrame'>\n",
      "Int64Index: 17641 entries, 0 to 17828\n",
      "Data columns (total 6 columns):\n",
      " #   Column        Non-Null Count  Dtype  \n",
      "---  ------        --------------  -----  \n",
      " 0   명칭            17637 non-null  object \n",
      " 1   latitude      17641 non-null  float64\n",
      " 2   longitude     17641 non-null  float64\n",
      " 3   Station_line  738 non-null    object \n",
      " 4   구분            17641 non-null  object \n",
      " 5   Area(m^2)     411 non-null    float64\n",
      "dtypes: float64(3), object(3)\n",
      "memory usage: 964.7+ KB\n"
     ]
    }
   ],
   "source": [
    "df.info()"
   ]
  },
  {
   "cell_type": "code",
   "execution_count": 5,
   "id": "05dabf70",
   "metadata": {},
   "outputs": [
    {
     "name": "stdout",
     "output_type": "stream",
     "text": [
      "<class 'pandas.core.frame.DataFrame'>\n",
      "RangeIndex: 163821 entries, 0 to 163820\n",
      "Data columns (total 7 columns):\n",
      " #   Column     Non-Null Count   Dtype  \n",
      "---  ------     --------------   -----  \n",
      " 0   주소         163821 non-null  object \n",
      " 1   건물주용도      163821 non-null  object \n",
      " 2   건물명        163821 non-null  object \n",
      " 3   건물면적       163821 non-null  float64\n",
      " 4   물건금액       163821 non-null  int64  \n",
      " 5   latitude   163821 non-null  float64\n",
      " 6   longitude  163821 non-null  float64\n",
      "dtypes: float64(3), int64(1), object(3)\n",
      "memory usage: 8.7+ MB\n"
     ]
    }
   ],
   "source": [
    "df2.info()"
   ]
  },
  {
   "cell_type": "markdown",
   "id": "17bb2d4f",
   "metadata": {},
   "source": [
    "## 1.1 Prepare empty df"
   ]
  },
  {
   "cell_type": "code",
   "execution_count": 6,
   "id": "982420f1",
   "metadata": {},
   "outputs": [],
   "source": [
    "df_complete = pd.DataFrame(columns=['공원최단거리', '도서관최단거리',\n",
    "                                    '초등학교최단거리', '중학교최단거리', '고등학교최단거리',\n",
    "                                    '지진옥외대피소최단거리', '응급실최단거리',\n",
    "                                    '0.5km지하철', '1.0km지하철', '1.5km지하철',\n",
    "                                    '1.0km병원', '2.5km병원',\n",
    "                                    #'0.1km편의점', '0.3km편의점', '0.5km편의점',\n",
    "                                    '0.5km버스정류장', '1.0km버스정류장', '1.5km버스정류장',\n",
    "                                     '건물면적', '건물금액', '건물주용도'])"
   ]
  },
  {
   "cell_type": "markdown",
   "id": "4980c5b0",
   "metadata": {},
   "source": [
    "# 2. Define functions"
   ]
  },
  {
   "cell_type": "code",
   "execution_count": 7,
   "id": "190d000c",
   "metadata": {},
   "outputs": [],
   "source": [
    "from scipy.spatial import distance"
   ]
  },
  {
   "cell_type": "code",
   "execution_count": 8,
   "id": "ac64e28f",
   "metadata": {},
   "outputs": [
    {
     "data": {
      "text/plain": [
       "0.1279450611492633"
      ]
     },
     "execution_count": 8,
     "metadata": {},
     "output_type": "execute_result"
    }
   ],
   "source": [
    "# trial calculating\n",
    "distance.euclidean((df2['longitude'][0], df2['latitude'][0]),(df['longitude'][1], df['latitude'][1]))"
   ]
  },
  {
   "cell_type": "code",
   "execution_count": 9,
   "id": "70ece52c",
   "metadata": {},
   "outputs": [],
   "source": [
    "# distance's output is not km.\n",
    "def make_km(x):\n",
    "    # 2.3f\n",
    "    return x // 0.00001 /1000"
   ]
  },
  {
   "cell_type": "markdown",
   "id": "43daac45",
   "metadata": {},
   "source": [
    "## 2.1 최단거리 구하기"
   ]
  },
  {
   "cell_type": "code",
   "execution_count": null,
   "id": "34b634d5",
   "metadata": {},
   "outputs": [],
   "source": [
    "# Input: house 는 데이터 하나, 우호시설은 데이터 column\n",
    "def least_distance_friendly(house_lon, house_lat, friendly_lons, friendly_lats):\n",
    "    dist = []\n",
    "    for i in range(len(friendly_lons)):\n",
    "        try: \n",
    "            dist.append(\n",
    "                make_km(distance.euclidean((house_lon, house_lat), (friendly_lons[i], friendly_lats[i]))\n",
    "                ))\n",
    "        except: \n",
    "            dist.append(-999)\n",
    "    try:\n",
    "        ret = min(dist)\n",
    "    except:\n",
    "        ret = -999\n",
    "    return ret"
   ]
  },
  {
   "cell_type": "markdown",
   "id": "f4bd13f8",
   "metadata": {},
   "source": [
    "## 2.2 범위 내 개수 구하기"
   ]
  },
  {
   "cell_type": "code",
   "execution_count": null,
   "id": "993900d2",
   "metadata": {},
   "outputs": [],
   "source": [
    "# count num of friendly facilities in range\n",
    "# Input: distance list, range list [km]\n",
    "\n",
    "def count_in_distance(dist_list, range_km):\n",
    "    count = 0\n",
    "    for i in dist_list:\n",
    "        if i < range_km:\n",
    "            count +=1\n",
    "    return count"
   ]
  },
  {
   "cell_type": "code",
   "execution_count": null,
   "id": "4f551345",
   "metadata": {
    "scrolled": true
   },
   "outputs": [],
   "source": [
    "# Input: house 는 데이터 하나, 우호시설은 데이터 column\n",
    "def num_by_distance(house_lon, house_lat, friendly_lons, friendly_lats, range_list):\n",
    "    dist = []\n",
    "    for i in range(len(friendly_lons)):\n",
    "        dist.append(\n",
    "            make_km(distance.euclidean((house_lon, house_lat), (friendly_lons[i], friendly_lats[i]))))\n",
    "            \n",
    "    ret = []\n",
    "    for ran in range_list:\n",
    "        ret.append(count_in_distance(dist, ran))\n",
    "        \n",
    "    return ret # list"
   ]
  },
  {
   "cell_type": "code",
   "execution_count": 13,
   "id": "45927d6e",
   "metadata": {},
   "outputs": [],
   "source": [
    "# selection = ['지하철', '병원', '버스정류장'\n",
    "#             #, '편의점'\n",
    "#             ]\n",
    "# selection_range = [[0.5, 1, 1.5],\n",
    "#                    [0.5, 1],\n",
    "#                    [0.5, 1, 1.5]\n",
    "#                    #,[0.1, 0.3, 0.5]\n",
    "#                   ]\n",
    "\n",
    "# for i in tqdm(range(len(selection)), desc='Progress..', mininterval=0.1):\n",
    "#     filt = df['구분'] == selection[i]\n",
    "\n",
    "#     for j in range(len(df['longitude'])):\n",
    "#         ret = num_by_distance(df['longitude'][j], df['latitude'][j], df[filt]['longitude'].values, df[filt]['latitude'].values, selection_range[i])"
   ]
  },
  {
   "cell_type": "code",
   "execution_count": 37,
   "id": "0ad58b79",
   "metadata": {},
   "outputs": [
    {
     "name": "stderr",
     "output_type": "stream",
     "text": [
      "Progress:   0%|          | 25/163821 [00:05<10:16:04,  4.43it/s]\n"
     ]
    },
    {
     "ename": "KeyboardInterrupt",
     "evalue": "",
     "output_type": "error",
     "traceback": [
      "\u001b[0;31m---------------------------------------------------------------------------\u001b[0m",
      "\u001b[0;31mKeyboardInterrupt\u001b[0m                         Traceback (most recent call last)",
      "\u001b[0;32m<ipython-input-37-e46a7c9d8f91>\u001b[0m in \u001b[0;36m<module>\u001b[0;34m\u001b[0m\n\u001b[1;32m     22\u001b[0m     \u001b[0;32mfor\u001b[0m \u001b[0mk\u001b[0m \u001b[0;32min\u001b[0m \u001b[0mrange\u001b[0m\u001b[0;34m(\u001b[0m\u001b[0mlen\u001b[0m\u001b[0;34m(\u001b[0m\u001b[0mselection2\u001b[0m\u001b[0;34m)\u001b[0m\u001b[0;34m)\u001b[0m\u001b[0;34m:\u001b[0m\u001b[0;34m\u001b[0m\u001b[0;34m\u001b[0m\u001b[0m\n\u001b[1;32m     23\u001b[0m         \u001b[0mfilt\u001b[0m \u001b[0;34m=\u001b[0m \u001b[0mdf\u001b[0m\u001b[0;34m[\u001b[0m\u001b[0;34m'구분'\u001b[0m\u001b[0;34m]\u001b[0m \u001b[0;34m==\u001b[0m \u001b[0mselection2\u001b[0m\u001b[0;34m[\u001b[0m\u001b[0mk\u001b[0m\u001b[0;34m]\u001b[0m\u001b[0;34m\u001b[0m\u001b[0;34m\u001b[0m\u001b[0m\n\u001b[0;32m---> 24\u001b[0;31m         \u001b[0mtemp\u001b[0m \u001b[0;34m=\u001b[0m \u001b[0mnum_by_distance\u001b[0m\u001b[0;34m(\u001b[0m\u001b[0mdf2\u001b[0m\u001b[0;34m[\u001b[0m\u001b[0;34m'longitude'\u001b[0m\u001b[0;34m]\u001b[0m\u001b[0;34m[\u001b[0m\u001b[0mj\u001b[0m\u001b[0;34m]\u001b[0m\u001b[0;34m,\u001b[0m \u001b[0mdf2\u001b[0m\u001b[0;34m[\u001b[0m\u001b[0;34m'latitude'\u001b[0m\u001b[0;34m]\u001b[0m\u001b[0;34m[\u001b[0m\u001b[0mj\u001b[0m\u001b[0;34m]\u001b[0m\u001b[0;34m,\u001b[0m \u001b[0mdf\u001b[0m\u001b[0;34m[\u001b[0m\u001b[0mfilt\u001b[0m\u001b[0;34m]\u001b[0m\u001b[0;34m[\u001b[0m\u001b[0;34m'longitude'\u001b[0m\u001b[0;34m]\u001b[0m\u001b[0;34m.\u001b[0m\u001b[0mvalues\u001b[0m\u001b[0;34m,\u001b[0m \u001b[0mdf\u001b[0m\u001b[0;34m[\u001b[0m\u001b[0mfilt\u001b[0m\u001b[0;34m]\u001b[0m\u001b[0;34m[\u001b[0m\u001b[0;34m'latitude'\u001b[0m\u001b[0;34m]\u001b[0m\u001b[0;34m.\u001b[0m\u001b[0mvalues\u001b[0m\u001b[0;34m,\u001b[0m \u001b[0mselection_range\u001b[0m\u001b[0;34m[\u001b[0m\u001b[0mk\u001b[0m\u001b[0;34m]\u001b[0m\u001b[0;34m)\u001b[0m\u001b[0;34m\u001b[0m\u001b[0;34m\u001b[0m\u001b[0m\n\u001b[0m\u001b[1;32m     25\u001b[0m         \u001b[0;32mfor\u001b[0m \u001b[0mtmp\u001b[0m \u001b[0;32min\u001b[0m \u001b[0mtemp\u001b[0m\u001b[0;34m:\u001b[0m\u001b[0;34m\u001b[0m\u001b[0;34m\u001b[0m\u001b[0m\n\u001b[1;32m     26\u001b[0m             \u001b[0mret\u001b[0m\u001b[0;34m.\u001b[0m\u001b[0mappend\u001b[0m\u001b[0;34m(\u001b[0m\u001b[0mtmp\u001b[0m\u001b[0;34m)\u001b[0m\u001b[0;34m\u001b[0m\u001b[0;34m\u001b[0m\u001b[0m\n",
      "\u001b[0;32m<ipython-input-12-42e337d6adab>\u001b[0m in \u001b[0;36mnum_by_distance\u001b[0;34m(house_lon, house_lat, friendly_lons, friendly_lats, range_list)\u001b[0m\n\u001b[1;32m      4\u001b[0m     \u001b[0;32mfor\u001b[0m \u001b[0mi\u001b[0m \u001b[0;32min\u001b[0m \u001b[0mrange\u001b[0m\u001b[0;34m(\u001b[0m\u001b[0mlen\u001b[0m\u001b[0;34m(\u001b[0m\u001b[0mfriendly_lons\u001b[0m\u001b[0;34m)\u001b[0m\u001b[0;34m)\u001b[0m\u001b[0;34m:\u001b[0m\u001b[0;34m\u001b[0m\u001b[0;34m\u001b[0m\u001b[0m\n\u001b[1;32m      5\u001b[0m         dist.append(\n\u001b[0;32m----> 6\u001b[0;31m             make_km(distance.euclidean((house_lon, house_lat), (friendly_lons[i], friendly_lats[i]))))\n\u001b[0m\u001b[1;32m      7\u001b[0m \u001b[0;34m\u001b[0m\u001b[0m\n\u001b[1;32m      8\u001b[0m     \u001b[0mret\u001b[0m \u001b[0;34m=\u001b[0m \u001b[0;34m[\u001b[0m\u001b[0;34m]\u001b[0m\u001b[0;34m\u001b[0m\u001b[0;34m\u001b[0m\u001b[0m\n",
      "\u001b[0;32m~/anaconda3/lib/python3.8/site-packages/scipy/spatial/distance.py\u001b[0m in \u001b[0;36meuclidean\u001b[0;34m(u, v, w)\u001b[0m\n\u001b[1;32m    624\u001b[0m \u001b[0;34m\u001b[0m\u001b[0m\n\u001b[1;32m    625\u001b[0m     \"\"\"\n\u001b[0;32m--> 626\u001b[0;31m     \u001b[0;32mreturn\u001b[0m \u001b[0mminkowski\u001b[0m\u001b[0;34m(\u001b[0m\u001b[0mu\u001b[0m\u001b[0;34m,\u001b[0m \u001b[0mv\u001b[0m\u001b[0;34m,\u001b[0m \u001b[0mp\u001b[0m\u001b[0;34m=\u001b[0m\u001b[0;36m2\u001b[0m\u001b[0;34m,\u001b[0m \u001b[0mw\u001b[0m\u001b[0;34m=\u001b[0m\u001b[0mw\u001b[0m\u001b[0;34m)\u001b[0m\u001b[0;34m\u001b[0m\u001b[0;34m\u001b[0m\u001b[0m\n\u001b[0m\u001b[1;32m    627\u001b[0m \u001b[0;34m\u001b[0m\u001b[0m\n\u001b[1;32m    628\u001b[0m \u001b[0;34m\u001b[0m\u001b[0m\n",
      "\u001b[0;32m~/anaconda3/lib/python3.8/site-packages/scipy/spatial/distance.py\u001b[0m in \u001b[0;36mminkowski\u001b[0;34m(u, v, p, w)\u001b[0m\n\u001b[1;32m    511\u001b[0m \u001b[0;34m\u001b[0m\u001b[0m\n\u001b[1;32m    512\u001b[0m     \"\"\"\n\u001b[0;32m--> 513\u001b[0;31m     \u001b[0mu\u001b[0m \u001b[0;34m=\u001b[0m \u001b[0m_validate_vector\u001b[0m\u001b[0;34m(\u001b[0m\u001b[0mu\u001b[0m\u001b[0;34m)\u001b[0m\u001b[0;34m\u001b[0m\u001b[0;34m\u001b[0m\u001b[0m\n\u001b[0m\u001b[1;32m    514\u001b[0m     \u001b[0mv\u001b[0m \u001b[0;34m=\u001b[0m \u001b[0m_validate_vector\u001b[0m\u001b[0;34m(\u001b[0m\u001b[0mv\u001b[0m\u001b[0;34m)\u001b[0m\u001b[0;34m\u001b[0m\u001b[0;34m\u001b[0m\u001b[0m\n\u001b[1;32m    515\u001b[0m     \u001b[0;32mif\u001b[0m \u001b[0mp\u001b[0m \u001b[0;34m<\u001b[0m \u001b[0;36m1\u001b[0m\u001b[0;34m:\u001b[0m\u001b[0;34m\u001b[0m\u001b[0;34m\u001b[0m\u001b[0m\n",
      "\u001b[0;32m~/anaconda3/lib/python3.8/site-packages/scipy/spatial/distance.py\u001b[0m in \u001b[0;36m_validate_vector\u001b[0;34m(u, dtype)\u001b[0m\n\u001b[1;32m    334\u001b[0m \u001b[0;32mdef\u001b[0m \u001b[0m_validate_vector\u001b[0m\u001b[0;34m(\u001b[0m\u001b[0mu\u001b[0m\u001b[0;34m,\u001b[0m \u001b[0mdtype\u001b[0m\u001b[0;34m=\u001b[0m\u001b[0;32mNone\u001b[0m\u001b[0;34m)\u001b[0m\u001b[0;34m:\u001b[0m\u001b[0;34m\u001b[0m\u001b[0;34m\u001b[0m\u001b[0m\n\u001b[1;32m    335\u001b[0m     \u001b[0;31m# XXX Is order='c' really necessary?\u001b[0m\u001b[0;34m\u001b[0m\u001b[0;34m\u001b[0m\u001b[0;34m\u001b[0m\u001b[0m\n\u001b[0;32m--> 336\u001b[0;31m     \u001b[0mu\u001b[0m \u001b[0;34m=\u001b[0m \u001b[0mnp\u001b[0m\u001b[0;34m.\u001b[0m\u001b[0masarray\u001b[0m\u001b[0;34m(\u001b[0m\u001b[0mu\u001b[0m\u001b[0;34m,\u001b[0m \u001b[0mdtype\u001b[0m\u001b[0;34m=\u001b[0m\u001b[0mdtype\u001b[0m\u001b[0;34m,\u001b[0m \u001b[0morder\u001b[0m\u001b[0;34m=\u001b[0m\u001b[0;34m'c'\u001b[0m\u001b[0;34m)\u001b[0m\u001b[0;34m.\u001b[0m\u001b[0msqueeze\u001b[0m\u001b[0;34m(\u001b[0m\u001b[0;34m)\u001b[0m\u001b[0;34m\u001b[0m\u001b[0;34m\u001b[0m\u001b[0m\n\u001b[0m\u001b[1;32m    337\u001b[0m     \u001b[0;31m# Ensure values such as u=1 and u=[1] still return 1-D arrays.\u001b[0m\u001b[0;34m\u001b[0m\u001b[0;34m\u001b[0m\u001b[0;34m\u001b[0m\u001b[0m\n\u001b[1;32m    338\u001b[0m     \u001b[0mu\u001b[0m \u001b[0;34m=\u001b[0m \u001b[0mnp\u001b[0m\u001b[0;34m.\u001b[0m\u001b[0matleast_1d\u001b[0m\u001b[0;34m(\u001b[0m\u001b[0mu\u001b[0m\u001b[0;34m)\u001b[0m\u001b[0;34m\u001b[0m\u001b[0;34m\u001b[0m\u001b[0m\n",
      "\u001b[0;32m~/anaconda3/lib/python3.8/site-packages/numpy/core/_asarray.py\u001b[0m in \u001b[0;36masarray\u001b[0;34m(a, dtype, order, like)\u001b[0m\n\u001b[1;32m    100\u001b[0m         \u001b[0;32mreturn\u001b[0m \u001b[0m_asarray_with_like\u001b[0m\u001b[0;34m(\u001b[0m\u001b[0ma\u001b[0m\u001b[0;34m,\u001b[0m \u001b[0mdtype\u001b[0m\u001b[0;34m=\u001b[0m\u001b[0mdtype\u001b[0m\u001b[0;34m,\u001b[0m \u001b[0morder\u001b[0m\u001b[0;34m=\u001b[0m\u001b[0morder\u001b[0m\u001b[0;34m,\u001b[0m \u001b[0mlike\u001b[0m\u001b[0;34m=\u001b[0m\u001b[0mlike\u001b[0m\u001b[0;34m)\u001b[0m\u001b[0;34m\u001b[0m\u001b[0;34m\u001b[0m\u001b[0m\n\u001b[1;32m    101\u001b[0m \u001b[0;34m\u001b[0m\u001b[0m\n\u001b[0;32m--> 102\u001b[0;31m     \u001b[0;32mreturn\u001b[0m \u001b[0marray\u001b[0m\u001b[0;34m(\u001b[0m\u001b[0ma\u001b[0m\u001b[0;34m,\u001b[0m \u001b[0mdtype\u001b[0m\u001b[0;34m,\u001b[0m \u001b[0mcopy\u001b[0m\u001b[0;34m=\u001b[0m\u001b[0;32mFalse\u001b[0m\u001b[0;34m,\u001b[0m \u001b[0morder\u001b[0m\u001b[0;34m=\u001b[0m\u001b[0morder\u001b[0m\u001b[0;34m)\u001b[0m\u001b[0;34m\u001b[0m\u001b[0;34m\u001b[0m\u001b[0m\n\u001b[0m\u001b[1;32m    103\u001b[0m \u001b[0;34m\u001b[0m\u001b[0m\n\u001b[1;32m    104\u001b[0m \u001b[0;34m\u001b[0m\u001b[0m\n",
      "\u001b[0;31mKeyboardInterrupt\u001b[0m: "
     ]
    }
   ],
   "source": [
    "selection = ['공원', '도서관', '초등학교', '중학교', '고등학교', '지진옥외대피소', '응급실']\n",
    "selection2 = ['지하철', '병원', '버스정류장'\n",
    "            #, '편의점'\n",
    "             ]\n",
    "selection_range = [[0.5, 1, 1.5],\n",
    "                   [1, 2.5],\n",
    "                   [0.5, 1, 1.5]\n",
    "                   #,[0.1, 0.3, 0.5]\n",
    "                  ]\n",
    "\n",
    "################################################################################################\n",
    "\n",
    "for j in tqdm(range(len(df2['longitude'])), desc=\"Progress\", mininterval=0.1):     \n",
    "    ret = []\n",
    "    \n",
    "    # append min dist facilities\n",
    "    for i in range(len(selection)):\n",
    "        filt = df['구분'] == selection[i]\n",
    "        ret.append(least_distance_friendly(df2['longitude'][j], df2['latitude'][j], df[filt]['longitude'].values, df[filt]['latitude'].values))  \n",
    "    \n",
    "    # append range facilities\n",
    "    for k in range(len(selection2)):\n",
    "        filt = df['구분'] == selection2[k]\n",
    "        temp = num_by_distance(df2['longitude'][j], df2['latitude'][j], df[filt]['longitude'].values, df[filt]['latitude'].values, selection_range[k])\n",
    "        for tmp in temp:\n",
    "            ret.append(tmp)\n",
    "    \n",
    "    # add them in dataframe\n",
    "    df_complete = df_complete.append(pd.Series(ret, index=df_complete.columns[:-4]), ignore_index=True)\n",
    "\n",
    "    if (j%10000==0):\n",
    "        df_complete.to_csv(\"min_distance_columns.csv\", encoding=\"utf-8\")\n",
    "        \n",
    "# append house_price and etc..\n",
    "df_complete['건물면적', '건물금액', '건물주용도'] = df2['건물면적', '물건금액', '건물주용도']\n",
    "\n",
    "\n",
    "df_complete.to_csv(\"min_distance_columns.csv\", encoding=\"utf-8\")"
   ]
  },
  {
   "cell_type": "code",
   "execution_count": 13,
   "id": "d562b396",
   "metadata": {},
   "outputs": [],
   "source": [
    "df_complete[['건물면적', '건물주용도']] = df2[['건물면적', '건물주용도']]"
   ]
  },
  {
   "cell_type": "code",
   "execution_count": 14,
   "id": "d0dc6771",
   "metadata": {},
   "outputs": [
    {
     "data": {
      "text/html": [
       "<div>\n",
       "<style scoped>\n",
       "    .dataframe tbody tr th:only-of-type {\n",
       "        vertical-align: middle;\n",
       "    }\n",
       "\n",
       "    .dataframe tbody tr th {\n",
       "        vertical-align: top;\n",
       "    }\n",
       "\n",
       "    .dataframe thead th {\n",
       "        text-align: right;\n",
       "    }\n",
       "</style>\n",
       "<table border=\"1\" class=\"dataframe\">\n",
       "  <thead>\n",
       "    <tr style=\"text-align: right;\">\n",
       "      <th></th>\n",
       "      <th>건물면적</th>\n",
       "      <th>건물주용도</th>\n",
       "    </tr>\n",
       "  </thead>\n",
       "  <tbody>\n",
       "    <tr>\n",
       "      <th>0</th>\n",
       "      <td>59.92</td>\n",
       "      <td>아파트</td>\n",
       "    </tr>\n",
       "    <tr>\n",
       "      <th>1</th>\n",
       "      <td>84.77</td>\n",
       "      <td>아파트</td>\n",
       "    </tr>\n",
       "    <tr>\n",
       "      <th>2</th>\n",
       "      <td>36.90</td>\n",
       "      <td>아파트</td>\n",
       "    </tr>\n",
       "    <tr>\n",
       "      <th>3</th>\n",
       "      <td>59.55</td>\n",
       "      <td>아파트</td>\n",
       "    </tr>\n",
       "    <tr>\n",
       "      <th>4</th>\n",
       "      <td>64.43</td>\n",
       "      <td>아파트</td>\n",
       "    </tr>\n",
       "    <tr>\n",
       "      <th>...</th>\n",
       "      <td>...</td>\n",
       "      <td>...</td>\n",
       "    </tr>\n",
       "    <tr>\n",
       "      <th>163816</th>\n",
       "      <td>84.98</td>\n",
       "      <td>아파트</td>\n",
       "    </tr>\n",
       "    <tr>\n",
       "      <th>163817</th>\n",
       "      <td>57.02</td>\n",
       "      <td>연립주택</td>\n",
       "    </tr>\n",
       "    <tr>\n",
       "      <th>163818</th>\n",
       "      <td>56.48</td>\n",
       "      <td>연립주택</td>\n",
       "    </tr>\n",
       "    <tr>\n",
       "      <th>163819</th>\n",
       "      <td>98.88</td>\n",
       "      <td>아파트</td>\n",
       "    </tr>\n",
       "    <tr>\n",
       "      <th>163820</th>\n",
       "      <td>46.77</td>\n",
       "      <td>연립주택</td>\n",
       "    </tr>\n",
       "  </tbody>\n",
       "</table>\n",
       "<p>163821 rows × 2 columns</p>\n",
       "</div>"
      ],
      "text/plain": [
       "         건물면적 건물주용도\n",
       "0       59.92   아파트\n",
       "1       84.77   아파트\n",
       "2       36.90   아파트\n",
       "3       59.55   아파트\n",
       "4       64.43   아파트\n",
       "...       ...   ...\n",
       "163816  84.98   아파트\n",
       "163817  57.02  연립주택\n",
       "163818  56.48  연립주택\n",
       "163819  98.88   아파트\n",
       "163820  46.77  연립주택\n",
       "\n",
       "[163821 rows x 2 columns]"
      ]
     },
     "execution_count": 14,
     "metadata": {},
     "output_type": "execute_result"
    }
   ],
   "source": [
    "df_complete[['건물면적', '건물주용도']]"
   ]
  },
  {
   "cell_type": "code",
   "execution_count": null,
   "id": "a62135c7",
   "metadata": {},
   "outputs": [],
   "source": []
  }
 ],
 "metadata": {
  "kernelspec": {
   "display_name": "Python 3",
   "language": "python",
   "name": "python3"
  },
  "language_info": {
   "codemirror_mode": {
    "name": "ipython",
    "version": 3
   },
   "file_extension": ".py",
   "mimetype": "text/x-python",
   "name": "python",
   "nbconvert_exporter": "python",
   "pygments_lexer": "ipython3",
   "version": "3.8.8"
  }
 },
 "nbformat": 4,
 "nbformat_minor": 5
}
